{
 "cells": [
  {
   "cell_type": "markdown",
   "metadata": {},
   "source": [
    "# Capstone: Kpop Group Lifespan Analysis"
   ]
  },
  {
   "cell_type": "code",
   "execution_count": 2,
   "metadata": {},
   "outputs": [],
   "source": [
    "# Imports:\n",
    "import pandas as pd\n",
    "import numpy as np\n",
    "import seaborn as sns\n",
    "import matplotlib.pyplot as plt"
   ]
  },
  {
   "cell_type": "markdown",
   "metadata": {},
   "source": [
    "### Overall Contents:\n",
    "- Background\n",
    "- Data Cleaning\n",
    "- Exploratory Data Analysis\n",
    "- Modeling\n",
    "- [Evaluation](#5.-Evaluation) **(In this notebook)**\n",
    "- [Conclusion and Recommendation](#6.-Conclusion-and-Recommendation) **(In this notebook)**"
   ]
  },
  {
   "cell_type": "markdown",
   "metadata": {},
   "source": [
    "## 5. Evaluation"
   ]
  },
  {
   "cell_type": "markdown",
   "metadata": {},
   "source": [
    "**Summary Table: Model Evaluation**\n",
    "\n",
    "| Model|Train Score (Accuracy)       |   Val Score (Accuracy)   | Train RMSE |  Val RMSE |\n",
    "|:-------------------:|:-------------------:|:-------:|:----------:|:-----------------:|\n",
    "| OLS |  0.792 |    0.348  |     1.168    |      2.046     |\n",
    "|Lasso regression| 0.736 |  0.703  | 1.314 |   1.380  |\n",
    "|Ridge regression| 0.726 |  0.702  | 1.342 |   1.385  |\n",
    "|Enet regression(best)| 0.727 |  0.701  | 1.338 |   1.385  |"
   ]
  },
  {
   "cell_type": "markdown",
   "metadata": {},
   "source": [
    "**Analysis: Lasso performed the best amoung the 3 with the highest r sqaured score using the validation set from the train test split and the lowest RMSE score as well. However in terms of scale the improvement is not very significant. Collecting more data/features would help in impoving the model**"
   ]
  },
  {
   "cell_type": "code",
   "execution_count": 6,
   "metadata": {},
   "outputs": [],
   "source": [
    "pred_df = pd.read_csv(\"../data/pred.csv\")\n",
    "musicgroup_df = pd.read_csv(\"../data/combinedpred.csv\")"
   ]
  },
  {
   "cell_type": "code",
   "execution_count": 10,
   "metadata": {},
   "outputs": [],
   "source": [
    "musicgroup_df.lifespan = musicgroup_df.lifespan.astype(int)\n",
    "musicgroup_df.disband_year = musicgroup_df.disband_year.astype(int)"
   ]
  },
  {
   "cell_type": "code",
   "execution_count": 15,
   "metadata": {
    "scrolled": true
   },
   "outputs": [
    {
     "data": {
      "text/html": [
       "<div>\n",
       "<style scoped>\n",
       "    .dataframe tbody tr th:only-of-type {\n",
       "        vertical-align: middle;\n",
       "    }\n",
       "\n",
       "    .dataframe tbody tr th {\n",
       "        vertical-align: top;\n",
       "    }\n",
       "\n",
       "    .dataframe thead th {\n",
       "        text-align: right;\n",
       "    }\n",
       "</style>\n",
       "<table border=\"1\" class=\"dataframe\">\n",
       "  <thead>\n",
       "    <tr style=\"text-align: right;\">\n",
       "      <th></th>\n",
       "      <th>group_name</th>\n",
       "      <th>company</th>\n",
       "      <th>debut_year</th>\n",
       "      <th>disband_year</th>\n",
       "      <th>lifespan</th>\n",
       "    </tr>\n",
       "  </thead>\n",
       "  <tbody>\n",
       "    <tr>\n",
       "      <th>303</th>\n",
       "      <td>TVXQ!</td>\n",
       "      <td>sm_entertainment</td>\n",
       "      <td>2003</td>\n",
       "      <td>2022.0</td>\n",
       "      <td>19.792361</td>\n",
       "    </tr>\n",
       "    <tr>\n",
       "      <th>53</th>\n",
       "      <td>Gavy NJ</td>\n",
       "      <td>good_fellas_entertainment</td>\n",
       "      <td>2005</td>\n",
       "      <td>2022.0</td>\n",
       "      <td>17.929408</td>\n",
       "    </tr>\n",
       "    <tr>\n",
       "      <th>284</th>\n",
       "      <td>SUPER JUNIOR</td>\n",
       "      <td>sm_entertainment</td>\n",
       "      <td>2005</td>\n",
       "      <td>2020.0</td>\n",
       "      <td>15.865277</td>\n",
       "    </tr>\n",
       "    <tr>\n",
       "      <th>278</th>\n",
       "      <td>SHINHWA</td>\n",
       "      <td>sm_entertainment</td>\n",
       "      <td>1998</td>\n",
       "      <td>2013.0</td>\n",
       "      <td>15.634963</td>\n",
       "    </tr>\n",
       "    <tr>\n",
       "      <th>252</th>\n",
       "      <td>NELL</td>\n",
       "      <td>space_bohemian</td>\n",
       "      <td>2001</td>\n",
       "      <td>2015.0</td>\n",
       "      <td>15.481491</td>\n",
       "    </tr>\n",
       "    <tr>\n",
       "      <th>149</th>\n",
       "      <td>4men</td>\n",
       "      <td>major9</td>\n",
       "      <td>1998</td>\n",
       "      <td>2012.0</td>\n",
       "      <td>15.321407</td>\n",
       "    </tr>\n",
       "    <tr>\n",
       "      <th>305</th>\n",
       "      <td>U-KISS</td>\n",
       "      <td>nh_media</td>\n",
       "      <td>2008</td>\n",
       "      <td>2022.0</td>\n",
       "      <td>14.966312</td>\n",
       "    </tr>\n",
       "    <tr>\n",
       "      <th>57</th>\n",
       "      <td>Girls' Generation</td>\n",
       "      <td>sm_entertainment</td>\n",
       "      <td>2007</td>\n",
       "      <td>2020.0</td>\n",
       "      <td>13.803270</td>\n",
       "    </tr>\n",
       "    <tr>\n",
       "      <th>208</th>\n",
       "      <td>FTISLAND</td>\n",
       "      <td>fnc_entertainment</td>\n",
       "      <td>2007</td>\n",
       "      <td>2020.0</td>\n",
       "      <td>13.770035</td>\n",
       "    </tr>\n",
       "    <tr>\n",
       "      <th>145</th>\n",
       "      <td>015b</td>\n",
       "      <td>the015b</td>\n",
       "      <td>2006</td>\n",
       "      <td>2018.0</td>\n",
       "      <td>13.457528</td>\n",
       "    </tr>\n",
       "  </tbody>\n",
       "</table>\n",
       "</div>"
      ],
      "text/plain": [
       "            group_name                    company  debut_year  disband_year  \\\n",
       "303              TVXQ!           sm_entertainment        2003        2022.0   \n",
       "53             Gavy NJ  good_fellas_entertainment        2005        2022.0   \n",
       "284       SUPER JUNIOR           sm_entertainment        2005        2020.0   \n",
       "278            SHINHWA           sm_entertainment        1998        2013.0   \n",
       "252               NELL             space_bohemian        2001        2015.0   \n",
       "149               4men                     major9        1998        2012.0   \n",
       "305             U-KISS                   nh_media        2008        2022.0   \n",
       "57   Girls' Generation           sm_entertainment        2007        2020.0   \n",
       "208           FTISLAND          fnc_entertainment        2007        2020.0   \n",
       "145               015b                    the015b        2006        2018.0   \n",
       "\n",
       "      lifespan  \n",
       "303  19.792361  \n",
       "53   17.929408  \n",
       "284  15.865277  \n",
       "278  15.634963  \n",
       "252  15.481491  \n",
       "149  15.321407  \n",
       "305  14.966312  \n",
       "57   13.803270  \n",
       "208  13.770035  \n",
       "145  13.457528  "
      ]
     },
     "execution_count": 15,
     "metadata": {},
     "output_type": "execute_result"
    }
   ],
   "source": [
    "pred_df[['group_name','company','debut_year','disband_year','lifespan']].sort_values('lifespan', axis = 0, ascending= False).head(10)"
   ]
  },
  {
   "cell_type": "code",
   "execution_count": 16,
   "metadata": {
    "scrolled": true
   },
   "outputs": [
    {
     "data": {
      "text/html": [
       "<div>\n",
       "<style scoped>\n",
       "    .dataframe tbody tr th:only-of-type {\n",
       "        vertical-align: middle;\n",
       "    }\n",
       "\n",
       "    .dataframe tbody tr th {\n",
       "        vertical-align: top;\n",
       "    }\n",
       "\n",
       "    .dataframe thead th {\n",
       "        text-align: right;\n",
       "    }\n",
       "</style>\n",
       "<table border=\"1\" class=\"dataframe\">\n",
       "  <thead>\n",
       "    <tr style=\"text-align: right;\">\n",
       "      <th></th>\n",
       "      <th>group_name</th>\n",
       "      <th>company</th>\n",
       "      <th>debut_year</th>\n",
       "      <th>disband_year</th>\n",
       "      <th>lifespan</th>\n",
       "    </tr>\n",
       "  </thead>\n",
       "  <tbody>\n",
       "    <tr>\n",
       "      <th>131</th>\n",
       "      <td>TWICE</td>\n",
       "      <td>jyp_entertainment</td>\n",
       "      <td>2015</td>\n",
       "      <td>2026.0</td>\n",
       "      <td>11.841408</td>\n",
       "    </tr>\n",
       "    <tr>\n",
       "      <th>242</th>\n",
       "      <td>MONSTA X</td>\n",
       "      <td>starship_entertainment</td>\n",
       "      <td>2015</td>\n",
       "      <td>2024.0</td>\n",
       "      <td>10.297438</td>\n",
       "    </tr>\n",
       "    <tr>\n",
       "      <th>304</th>\n",
       "      <td>TXT</td>\n",
       "      <td>bighit_music</td>\n",
       "      <td>2019</td>\n",
       "      <td>2024.0</td>\n",
       "      <td>5.670203</td>\n",
       "    </tr>\n",
       "    <tr>\n",
       "      <th>267</th>\n",
       "      <td>PENTAGON</td>\n",
       "      <td>cube_entertainment</td>\n",
       "      <td>2016</td>\n",
       "      <td>2024.0</td>\n",
       "      <td>9.136587</td>\n",
       "    </tr>\n",
       "    <tr>\n",
       "      <th>212</th>\n",
       "      <td>GOT7</td>\n",
       "      <td>jyp_entertainment</td>\n",
       "      <td>2014</td>\n",
       "      <td>2024.0</td>\n",
       "      <td>10.635437</td>\n",
       "    </tr>\n",
       "    <tr>\n",
       "      <th>282</th>\n",
       "      <td>Stray Kids</td>\n",
       "      <td>jyp_entertainment</td>\n",
       "      <td>2018</td>\n",
       "      <td>2024.0</td>\n",
       "      <td>7.069113</td>\n",
       "    </tr>\n",
       "    <tr>\n",
       "      <th>191</th>\n",
       "      <td>DAY6</td>\n",
       "      <td>colabs</td>\n",
       "      <td>2015</td>\n",
       "      <td>2024.0</td>\n",
       "      <td>9.625902</td>\n",
       "    </tr>\n",
       "    <tr>\n",
       "      <th>89</th>\n",
       "      <td>MAMAMOO</td>\n",
       "      <td>rbw</td>\n",
       "      <td>2014</td>\n",
       "      <td>2024.0</td>\n",
       "      <td>11.147397</td>\n",
       "    </tr>\n",
       "    <tr>\n",
       "      <th>176</th>\n",
       "      <td>BTS</td>\n",
       "      <td>bighit_music</td>\n",
       "      <td>2013</td>\n",
       "      <td>2024.0</td>\n",
       "      <td>11.973411</td>\n",
       "    </tr>\n",
       "    <tr>\n",
       "      <th>0</th>\n",
       "      <td>(G)I-DLE</td>\n",
       "      <td>cube_entertainment</td>\n",
       "      <td>2018</td>\n",
       "      <td>2023.0</td>\n",
       "      <td>6.280251</td>\n",
       "    </tr>\n",
       "  </tbody>\n",
       "</table>\n",
       "</div>"
      ],
      "text/plain": [
       "     group_name                 company  debut_year  disband_year   lifespan\n",
       "131       TWICE       jyp_entertainment        2015        2026.0  11.841408\n",
       "242    MONSTA X  starship_entertainment        2015        2024.0  10.297438\n",
       "304         TXT            bighit_music        2019        2024.0   5.670203\n",
       "267    PENTAGON      cube_entertainment        2016        2024.0   9.136587\n",
       "212        GOT7       jyp_entertainment        2014        2024.0  10.635437\n",
       "282  Stray Kids       jyp_entertainment        2018        2024.0   7.069113\n",
       "191        DAY6                  colabs        2015        2024.0   9.625902\n",
       "89      MAMAMOO                     rbw        2014        2024.0  11.147397\n",
       "176         BTS            bighit_music        2013        2024.0  11.973411\n",
       "0      (G)I-DLE      cube_entertainment        2018        2023.0   6.280251"
      ]
     },
     "execution_count": 16,
     "metadata": {},
     "output_type": "execute_result"
    }
   ],
   "source": [
    "pred_df[['group_name','company','debut_year','disband_year','lifespan']].sort_values('disband_year', axis = 0, ascending= False).head(10)"
   ]
  },
  {
   "cell_type": "markdown",
   "metadata": {},
   "source": [
    "**Analysis: Using the lasso model, we put the features of the still active groups and try to predict what their lifespans are. Clearly they are able to identify some of the more popular bands and is able to assign them with a longer lifepsan as compare to others.**\n",
    "\n",
    "**An interesting point to point out is that when sorted by the longest lifespan, the top few groups are from the earlier generations of music groups which helpped kicked off the first kpop wave internationally**\n",
    "\n",
    "**And when sorted by the latest disband year, the top few groups are from the current generation which is raving in the current popularity charts.**"
   ]
  },
  {
   "cell_type": "markdown",
   "metadata": {},
   "source": [
    "## 6. Conclusion and Recommendation"
   ]
  },
  {
   "cell_type": "markdown",
   "metadata": {},
   "source": [
    "**We have shown that we are able to predict the lifespan of a music group to an extend. However the RMSE is considered high still. More data collection will be required to lower the score.**\n",
    "\n",
    "**We also highlighted that show that active music groups are starting to plateau. Thus it might be an indicator that its not a good time to introduce more group to the industry.**\n",
    "\n",
    "**We have also identified the features that helps extend the lifespan of music groups.**"
   ]
  }
 ],
 "metadata": {
  "kernelspec": {
   "display_name": "Python 3",
   "language": "python",
   "name": "python3"
  },
  "language_info": {
   "codemirror_mode": {
    "name": "ipython",
    "version": 3
   },
   "file_extension": ".py",
   "mimetype": "text/x-python",
   "name": "python",
   "nbconvert_exporter": "python",
   "pygments_lexer": "ipython3",
   "version": "3.8.5"
  }
 },
 "nbformat": 4,
 "nbformat_minor": 4
}
