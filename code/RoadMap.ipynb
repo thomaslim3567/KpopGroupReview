{
 "cells": [
  {
   "cell_type": "markdown",
   "metadata": {},
   "source": [
    "Road Map of Todos (Targeted Deadline)\n",
    "\n",
    "    1) Problem Statement (2st May)\n",
    "        1.1) Done\n",
    "    3) Data gathering (9th May)\n",
    "        3.1) Basic Music group date (done for Male Group. Female Group pending)\n",
    "        3.2) Google Trend Items\n",
    "            3.2.1) Kpop\n",
    "            3.2.2) Korean Music\n",
    "            3.2.3) K-Pop\n",
    "            \n",
    "    4) Cleaning & Feature Engineering (15th May)\n",
    "    5) EDA (15 May)\n",
    "    6) Modeling (22th May)\n",
    "    7) Evaluation (22th May)\n",
    "    8) Summary and Review (29th May)"
   ]
  },
  {
   "cell_type": "markdown",
   "metadata": {},
   "source": [
    "# Problem Statement\n",
    "\n",
    "Working in one of the major music entertainment company in korea, our company has multiple music group of various performance under our care. The competition in this industry is very tough. Every music group have to ensure they are constantly able to bring about new music to contiune to capture their audience or to capture new ones to remain in the industry. Once they are unable to do so other group will take this oppertunity to overtake them. The role of the music entertainment company is not only to help promote the exsiting music group but to also recuit trainees and prepare them for their debut should there be signs of the music group on the verge of disbandment. However this is a long process, as new trainees often have to go through many years of training before they are even considered when a new group is slated to be form. Thus a way to identify the remainding time before a group would be disbanded would help save the company time and resources spent on the trainees. Thus we are tasked to come up with a model to predict the expected lifespan for a music group before it would be disbanded based on their current performance history thus far. ** need to put in a target, also explaining why the target is set that way.**"
   ]
  },
  {
   "cell_type": "markdown",
   "metadata": {},
   "source": [
    "# Data Set stuff to consider\n",
    "\n",
    "1) Data has to be collected manually expecting about approx 800 rows of data to be keyed in. (currently done with 300)\n",
    "2) Look for google trends on Kpop in general (done)\n",
    "3) Additional information to consider to add in (pending sufficent time)\n",
    "    1) Number of Scandels\n",
    "    2) Concerts/Events held\n",
    "    3) Popularity Metrics (instagram)\n",
    "        1) Maybe just an indicator if they have how many outreach social media channels (YT, IG, TWITTER, FB)\n",
    "        2) Has to be an offical account not a fan made one"
   ]
  }
 ],
 "metadata": {
  "kernelspec": {
   "display_name": "Python 3",
   "language": "python",
   "name": "python3"
  },
  "language_info": {
   "codemirror_mode": {
    "name": "ipython",
    "version": 3
   },
   "file_extension": ".py",
   "mimetype": "text/x-python",
   "name": "python",
   "nbconvert_exporter": "python",
   "pygments_lexer": "ipython3",
   "version": "3.8.5"
  }
 },
 "nbformat": 4,
 "nbformat_minor": 4
}
