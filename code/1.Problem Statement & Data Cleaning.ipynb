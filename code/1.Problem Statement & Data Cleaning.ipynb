{
 "cells": [
  {
   "cell_type": "markdown",
   "metadata": {},
   "source": [
    "# Capstone: Kpop Group Lifespan Analysis"
   ]
  },
  {
   "cell_type": "markdown",
   "metadata": {},
   "source": [
    "### Overall Contents:\n",
    "- [Problem Statement](#1.-Problem-Statement) **(In this notebook)**\n",
    "- [Data Cleaning](#2.-Data-Cleaning) **(In this notebook)**\n",
    "- Exploratory Data Analysis\n",
    "- Modeling\n",
    "- Evaluation\n",
    "- Conclusion and Recommendation"
   ]
  },
  {
   "cell_type": "markdown",
   "metadata": {},
   "source": [
    "## 1. Problem Statement"
   ]
  },
  {
   "cell_type": "markdown",
   "metadata": {},
   "source": [
    "Working in one of the major music entertainment company in korea, our company has multiple music group of various performance under our care. The competition in this industry is very tough. Every music group have to ensure they are constantly able to bring about new music to contiune to capture their audience or to capture new ones to remain in the industry. Once they are unable to do so other group will take this oppertunity to overtake them. The role of the music entertainment company is not only to help promote the exsiting music group but to also recuit trainees and prepare them for their debut should there be signs of the music group on the verge of disbandment. However this is a long process, as new trainees often have to go through many years of training before they are even considered when a new group is slated to be form. Thus a way to identify the remainding time before a group would be disbanded would help save the company time and resources spent on the trainees. Thus we are tasked to come up with a model to predict the expected lifespan for a music group before it would be disbanded based on their current performance history thus far. "
   ]
  },
  {
   "cell_type": "markdown",
   "metadata": {},
   "source": [
    "### 1.1 Datasets\n",
    "\n",
    "The Dataset contains details of the various music groups in Korea. The data are obtained from a combination of various website such as [kpop fandom](https://kpop.fandom.com/wiki/Main_Page), [dbkpop](https://dbkpop.com/) and [GoogleTrend](googletrendhttps://trends.google.com/trends/explore?date=all&q=%2Fm%2F02yh8l)\n",
    "\n",
    "The datasets obtained are as followed:-\n",
    "\n",
    "* musicgroup_df (data of all music groups)\n",
    "* disband_df (data of music groups that have been officially disbanded)\n",
    "* active_df (data of music groups that have not been officially disbanded)"
   ]
  },
  {
   "cell_type": "markdown",
   "metadata": {},
   "source": [
    "## 2. Data Cleaning"
   ]
  },
  {
   "cell_type": "markdown",
   "metadata": {},
   "source": [
    "### 2.1 Libraries Import"
   ]
  },
  {
   "cell_type": "code",
   "execution_count": 1,
   "metadata": {},
   "outputs": [],
   "source": [
    "# Imports:\n",
    "import pandas as pd\n",
    "import numpy as np\n",
    "import matplotlib.pyplot as plt\n",
    "import seaborn as sns\n",
    "\n",
    "%config InlineBackend.figure_format = 'retina'\n",
    "%matplotlib inline \n",
    "# Maximum display of columns\n",
    "pd.options.display.max_colwidth = 400\n",
    "pd.options.display.max_rows = 400"
   ]
  },
  {
   "cell_type": "markdown",
   "metadata": {},
   "source": [
    "### 2.2 Data Import"
   ]
  },
  {
   "cell_type": "code",
   "execution_count": 2,
   "metadata": {},
   "outputs": [],
   "source": [
    "# Import data from csv\n",
    "musicgroup_df = pd.read_csv('../data/MusicGroups.csv')\n",
    "kpoptrend_df = pd.read_csv(\"../data/KpopTrend2014To2021.csv\")"
   ]
  },
  {
   "cell_type": "markdown",
   "metadata": {},
   "source": [
    "### 2.3 Data Cleaning"
   ]
  },
  {
   "cell_type": "markdown",
   "metadata": {},
   "source": [
    "#### 2.3.1 Overview & Info"
   ]
  },
  {
   "cell_type": "code",
   "execution_count": 3,
   "metadata": {},
   "outputs": [
    {
     "data": {
      "text/html": [
       "<div>\n",
       "<style scoped>\n",
       "    .dataframe tbody tr th:only-of-type {\n",
       "        vertical-align: middle;\n",
       "    }\n",
       "\n",
       "    .dataframe tbody tr th {\n",
       "        vertical-align: top;\n",
       "    }\n",
       "\n",
       "    .dataframe thead th {\n",
       "        text-align: right;\n",
       "    }\n",
       "</style>\n",
       "<table border=\"1\" class=\"dataframe\">\n",
       "  <thead>\n",
       "    <tr style=\"text-align: right;\">\n",
       "      <th></th>\n",
       "      <th>Group Name</th>\n",
       "      <th>Company</th>\n",
       "      <th>Group Type</th>\n",
       "      <th>Debut Year</th>\n",
       "      <th>Disband Year</th>\n",
       "      <th>Current Status</th>\n",
       "      <th>Social Accounts</th>\n",
       "      <th>Inactive Members</th>\n",
       "      <th>Current Members</th>\n",
       "      <th>Original Members Remainding</th>\n",
       "      <th>...</th>\n",
       "      <th>Digital Singles</th>\n",
       "      <th>Other Singles</th>\n",
       "      <th>Foreign Albums</th>\n",
       "      <th>Foreign Mini Albums</th>\n",
       "      <th>Foreign Other Album</th>\n",
       "      <th>Foreign Singles</th>\n",
       "      <th>Foreign Digital Singles</th>\n",
       "      <th>Foreign Other Singles</th>\n",
       "      <th>Others</th>\n",
       "      <th>Last Production Year</th>\n",
       "    </tr>\n",
       "  </thead>\n",
       "  <tbody>\n",
       "    <tr>\n",
       "      <th>0</th>\n",
       "      <td>(G)I-DLE</td>\n",
       "      <td>Cube Entertainment</td>\n",
       "      <td>Female</td>\n",
       "      <td>2018</td>\n",
       "      <td>NaN</td>\n",
       "      <td>Active</td>\n",
       "      <td>10</td>\n",
       "      <td>1</td>\n",
       "      <td>5</td>\n",
       "      <td>5</td>\n",
       "      <td>...</td>\n",
       "      <td>4</td>\n",
       "      <td>0</td>\n",
       "      <td>0</td>\n",
       "      <td>2</td>\n",
       "      <td>0</td>\n",
       "      <td>2</td>\n",
       "      <td>2</td>\n",
       "      <td>0</td>\n",
       "      <td>5</td>\n",
       "      <td>2021</td>\n",
       "    </tr>\n",
       "    <tr>\n",
       "      <th>1</th>\n",
       "      <td>10X10</td>\n",
       "      <td>Gaon Entertainment</td>\n",
       "      <td>Female</td>\n",
       "      <td>2015</td>\n",
       "      <td>2016.0</td>\n",
       "      <td>Disband</td>\n",
       "      <td>2</td>\n",
       "      <td>0</td>\n",
       "      <td>6</td>\n",
       "      <td>6</td>\n",
       "      <td>...</td>\n",
       "      <td>3</td>\n",
       "      <td>0</td>\n",
       "      <td>0</td>\n",
       "      <td>0</td>\n",
       "      <td>0</td>\n",
       "      <td>0</td>\n",
       "      <td>0</td>\n",
       "      <td>0</td>\n",
       "      <td>0</td>\n",
       "      <td>2016</td>\n",
       "    </tr>\n",
       "    <tr>\n",
       "      <th>2</th>\n",
       "      <td>1NB</td>\n",
       "      <td>Trivus Entertainment</td>\n",
       "      <td>Female</td>\n",
       "      <td>2017</td>\n",
       "      <td>2018.0</td>\n",
       "      <td>Disband</td>\n",
       "      <td>4</td>\n",
       "      <td>0</td>\n",
       "      <td>5</td>\n",
       "      <td>5</td>\n",
       "      <td>...</td>\n",
       "      <td>6</td>\n",
       "      <td>0</td>\n",
       "      <td>0</td>\n",
       "      <td>0</td>\n",
       "      <td>0</td>\n",
       "      <td>0</td>\n",
       "      <td>0</td>\n",
       "      <td>0</td>\n",
       "      <td>0</td>\n",
       "      <td>2018</td>\n",
       "    </tr>\n",
       "    <tr>\n",
       "      <th>3</th>\n",
       "      <td>1PS</td>\n",
       "      <td>Maroo Entertainment</td>\n",
       "      <td>Female</td>\n",
       "      <td>2014</td>\n",
       "      <td>2015.0</td>\n",
       "      <td>Disband</td>\n",
       "      <td>3</td>\n",
       "      <td>0</td>\n",
       "      <td>5</td>\n",
       "      <td>4</td>\n",
       "      <td>...</td>\n",
       "      <td>1</td>\n",
       "      <td>0</td>\n",
       "      <td>0</td>\n",
       "      <td>0</td>\n",
       "      <td>0</td>\n",
       "      <td>0</td>\n",
       "      <td>0</td>\n",
       "      <td>0</td>\n",
       "      <td>1</td>\n",
       "      <td>2014</td>\n",
       "    </tr>\n",
       "    <tr>\n",
       "      <th>4</th>\n",
       "      <td>2EYES</td>\n",
       "      <td>SidusHQ</td>\n",
       "      <td>Female</td>\n",
       "      <td>2013</td>\n",
       "      <td>2017.0</td>\n",
       "      <td>Disband</td>\n",
       "      <td>2</td>\n",
       "      <td>0</td>\n",
       "      <td>4</td>\n",
       "      <td>4</td>\n",
       "      <td>...</td>\n",
       "      <td>1</td>\n",
       "      <td>0</td>\n",
       "      <td>0</td>\n",
       "      <td>0</td>\n",
       "      <td>0</td>\n",
       "      <td>0</td>\n",
       "      <td>0</td>\n",
       "      <td>0</td>\n",
       "      <td>1</td>\n",
       "      <td>2015</td>\n",
       "    </tr>\n",
       "  </tbody>\n",
       "</table>\n",
       "<p>5 rows × 27 columns</p>\n",
       "</div>"
      ],
      "text/plain": [
       "  Group Name               Company Group Type  Debut Year  Disband Year  \\\n",
       "0   (G)I-DLE    Cube Entertainment     Female        2018           NaN   \n",
       "1      10X10    Gaon Entertainment     Female        2015        2016.0   \n",
       "2       1NB   Trivus Entertainment     Female        2017        2018.0   \n",
       "3        1PS   Maroo Entertainment     Female        2014        2015.0   \n",
       "4      2EYES               SidusHQ     Female        2013        2017.0   \n",
       "\n",
       "  Current Status  Social Accounts  Inactive Members  Current Members  \\\n",
       "0         Active               10                 1                5   \n",
       "1        Disband                2                 0                6   \n",
       "2        Disband                4                 0                5   \n",
       "3        Disband                3                 0                5   \n",
       "4        Disband                2                 0                4   \n",
       "\n",
       "   Original Members Remainding  ...  Digital Singles  Other Singles  \\\n",
       "0                            5  ...                4              0   \n",
       "1                            6  ...                3              0   \n",
       "2                            5  ...                6              0   \n",
       "3                            4  ...                1              0   \n",
       "4                            4  ...                1              0   \n",
       "\n",
       "   Foreign Albums  Foreign Mini Albums  Foreign Other Album  Foreign Singles  \\\n",
       "0               0                    2                    0                2   \n",
       "1               0                    0                    0                0   \n",
       "2               0                    0                    0                0   \n",
       "3               0                    0                    0                0   \n",
       "4               0                    0                    0                0   \n",
       "\n",
       "   Foreign Digital Singles  Foreign Other Singles  Others  \\\n",
       "0                        2                      0       5   \n",
       "1                        0                      0       0   \n",
       "2                        0                      0       0   \n",
       "3                        0                      0       1   \n",
       "4                        0                      0       1   \n",
       "\n",
       "   Last Production Year  \n",
       "0                  2021  \n",
       "1                  2016  \n",
       "2                  2018  \n",
       "3                  2014  \n",
       "4                  2015  \n",
       "\n",
       "[5 rows x 27 columns]"
      ]
     },
     "execution_count": 3,
     "metadata": {},
     "output_type": "execute_result"
    }
   ],
   "source": [
    "# Header of musicgroup_df\n",
    "musicgroup_df.head()"
   ]
  },
  {
   "cell_type": "code",
   "execution_count": 4,
   "metadata": {
    "scrolled": false
   },
   "outputs": [
    {
     "name": "stdout",
     "output_type": "stream",
     "text": [
      "<class 'pandas.core.frame.DataFrame'>\n",
      "RangeIndex: 705 entries, 0 to 704\n",
      "Data columns (total 27 columns):\n",
      " #   Column                       Non-Null Count  Dtype  \n",
      "---  ------                       --------------  -----  \n",
      " 0   Group Name                   705 non-null    object \n",
      " 1   Company                      705 non-null    object \n",
      " 2   Group Type                   705 non-null    object \n",
      " 3   Debut Year                   705 non-null    int64  \n",
      " 4   Disband Year                 374 non-null    float64\n",
      " 5   Current Status               705 non-null    object \n",
      " 6   Social Accounts              705 non-null    int64  \n",
      " 7   Inactive Members             705 non-null    int64  \n",
      " 8   Current Members              705 non-null    int64  \n",
      " 9   Original Members Remainding  705 non-null    int64  \n",
      " 10  Initial Members              705 non-null    int64  \n",
      " 11  Member Changes               705 non-null    int64  \n",
      " 12  SubUnits                     705 non-null    int64  \n",
      " 13  Albums                       705 non-null    int64  \n",
      " 14  Mini Albums                  705 non-null    int64  \n",
      " 15  Other Albums                 705 non-null    int64  \n",
      " 16  Singles                      705 non-null    int64  \n",
      " 17  Digital Singles              705 non-null    int64  \n",
      " 18  Other Singles                705 non-null    int64  \n",
      " 19  Foreign Albums               705 non-null    int64  \n",
      " 20  Foreign Mini Albums          705 non-null    int64  \n",
      " 21  Foreign Other Album          705 non-null    int64  \n",
      " 22  Foreign Singles              705 non-null    int64  \n",
      " 23  Foreign Digital Singles      705 non-null    int64  \n",
      " 24  Foreign Other Singles        705 non-null    int64  \n",
      " 25  Others                       705 non-null    int64  \n",
      " 26  Last Production Year         705 non-null    int64  \n",
      "dtypes: float64(1), int64(22), object(4)\n",
      "memory usage: 148.8+ KB\n"
     ]
    }
   ],
   "source": [
    "# info of musicgroup_df\n",
    "musicgroup_df.info()"
   ]
  },
  {
   "cell_type": "markdown",
   "metadata": {},
   "source": [
    "**Analysis: Missing values in column 'Disband Year', spacing and capital letters in column names, check for correct date range in all 'year' columns, check company values**"
   ]
  },
  {
   "cell_type": "code",
   "execution_count": 5,
   "metadata": {
    "scrolled": true
   },
   "outputs": [
    {
     "data": {
      "text/html": [
       "<div>\n",
       "<style scoped>\n",
       "    .dataframe tbody tr th:only-of-type {\n",
       "        vertical-align: middle;\n",
       "    }\n",
       "\n",
       "    .dataframe tbody tr th {\n",
       "        vertical-align: top;\n",
       "    }\n",
       "\n",
       "    .dataframe thead th {\n",
       "        text-align: right;\n",
       "    }\n",
       "</style>\n",
       "<table border=\"1\" class=\"dataframe\">\n",
       "  <thead>\n",
       "    <tr style=\"text-align: right;\">\n",
       "      <th></th>\n",
       "      <th>Category: Arts &amp; Entertainment</th>\n",
       "    </tr>\n",
       "  </thead>\n",
       "  <tbody>\n",
       "    <tr>\n",
       "      <th>Month</th>\n",
       "      <td>K-pop: (Worldwide)</td>\n",
       "    </tr>\n",
       "    <tr>\n",
       "      <th>2004-01</th>\n",
       "      <td>6</td>\n",
       "    </tr>\n",
       "    <tr>\n",
       "      <th>2004-02</th>\n",
       "      <td>5</td>\n",
       "    </tr>\n",
       "    <tr>\n",
       "      <th>2004-03</th>\n",
       "      <td>3</td>\n",
       "    </tr>\n",
       "    <tr>\n",
       "      <th>2004-04</th>\n",
       "      <td>7</td>\n",
       "    </tr>\n",
       "  </tbody>\n",
       "</table>\n",
       "</div>"
      ],
      "text/plain": [
       "        Category: Arts & Entertainment\n",
       "Month               K-pop: (Worldwide)\n",
       "2004-01                              6\n",
       "2004-02                              5\n",
       "2004-03                              3\n",
       "2004-04                              7"
      ]
     },
     "execution_count": 5,
     "metadata": {},
     "output_type": "execute_result"
    }
   ],
   "source": [
    "kpoptrend_df.head()"
   ]
  },
  {
   "cell_type": "code",
   "execution_count": 6,
   "metadata": {
    "scrolled": false
   },
   "outputs": [
    {
     "name": "stdout",
     "output_type": "stream",
     "text": [
      "<class 'pandas.core.frame.DataFrame'>\n",
      "Index: 210 entries, Month to 2021-05\n",
      "Data columns (total 1 columns):\n",
      " #   Column                          Non-Null Count  Dtype \n",
      "---  ------                          --------------  ----- \n",
      " 0   Category: Arts & Entertainment  210 non-null    object\n",
      "dtypes: object(1)\n",
      "memory usage: 3.3+ KB\n"
     ]
    }
   ],
   "source": [
    "kpoptrend_df.info()"
   ]
  },
  {
   "cell_type": "markdown",
   "metadata": {},
   "source": [
    "**Analysis: Data only start from 2004 and untill 2021 May. First row should be made into columns names instead**"
   ]
  },
  {
   "cell_type": "markdown",
   "metadata": {},
   "source": [
    "#### 2.3.2. Columns tidying and handling missing values (musicgroup_df)"
   ]
  },
  {
   "cell_type": "code",
   "execution_count": 7,
   "metadata": {},
   "outputs": [],
   "source": [
    "# change all columns names to lowercase and replace spacing with underscore.\n",
    "musicgroup_df.columns = musicgroup_df.columns.str.replace(' ', '_')\n",
    "musicgroup_df.columns = musicgroup_df.columns.str.lower()"
   ]
  },
  {
   "cell_type": "code",
   "execution_count": 8,
   "metadata": {},
   "outputs": [],
   "source": [
    "# handle the null cells in the 'disband_year' column\n",
    "musicgroup_df.disband_year.fillna('0', inplace = True)\n",
    "musicgroup_df.disband_year = musicgroup_df.disband_year.astype('int64')"
   ]
  },
  {
   "cell_type": "markdown",
   "metadata": {},
   "source": [
    "#### 2.3.3. Check date ranges (musicgroup_df)"
   ]
  },
  {
   "cell_type": "code",
   "execution_count": 11,
   "metadata": {},
   "outputs": [
    {
     "data": {
      "text/plain": [
       "array([2018, 2015, 2017, 2014, 2013, 2009, 2019, 2003, 2012, 2010, 2016,\n",
       "       2006, 2020, 2001, 2011, 1997, 1999, 1998, 2021, 2005, 2007, 2000,\n",
       "       2002, 1990, 2008, 1996, 1992, 2004, 1993, 1995], dtype=int64)"
      ]
     },
     "execution_count": 11,
     "metadata": {},
     "output_type": "execute_result"
    }
   ],
   "source": [
    "musicgroup_df.debut_year.unique()"
   ]
  },
  {
   "cell_type": "code",
   "execution_count": 12,
   "metadata": {},
   "outputs": [
    {
     "data": {
      "text/plain": [
       "array([   0, 2016, 2018, 2015, 2017, 2009, 2013, 2019, 2020, 2014, 2007,\n",
       "       2002, 2011, 2021, 2006, 2005, 2001, 1999, 2000, 2012, 2003, 2004,\n",
       "       1996, 2010, 1997], dtype=int64)"
      ]
     },
     "execution_count": 12,
     "metadata": {},
     "output_type": "execute_result"
    }
   ],
   "source": [
    "musicgroup_df.disband_year.unique()"
   ]
  },
  {
   "cell_type": "code",
   "execution_count": 13,
   "metadata": {},
   "outputs": [
    {
     "data": {
      "text/plain": [
       "array([2021, 2016, 2018, 2014, 2015, 2017, 2020, 2009, 2012, 2019, 2006,\n",
       "       2001, 2011, 2004, 2013, 2005, 2000, 1997, 2007, 2002, 1999, 1996,\n",
       "       2010], dtype=int64)"
      ]
     },
     "execution_count": 13,
     "metadata": {},
     "output_type": "execute_result"
    }
   ],
   "source": [
    "musicgroup_df.last_production_year.unique()"
   ]
  },
  {
   "cell_type": "markdown",
   "metadata": {},
   "source": [
    "#### 2.3.3. Check company values (musicgroup_df)"
   ]
  },
  {
   "cell_type": "code",
   "execution_count": 14,
   "metadata": {},
   "outputs": [],
   "source": [
    "musicgroup_df.company = musicgroup_df.company.str.replace(' ', '_')\n",
    "musicgroup_df.company = musicgroup_df.company.str.lower()"
   ]
  },
  {
   "cell_type": "markdown",
   "metadata": {},
   "source": [
    "#### 2.3.4. Change columns names (kpoptrend_df)"
   ]
  },
  {
   "cell_type": "code",
   "execution_count": 15,
   "metadata": {},
   "outputs": [],
   "source": [
    "kpoptrend_df.columns = kpoptrend_df.iloc[0]\n",
    "kpoptrend_df = kpoptrend_df[1:]\n",
    "kpoptrend_df.rename(columns = {'Month': 'year_month', 'K-pop: (Worldwide)': 'trend'}, inplace = True)"
   ]
  },
  {
   "cell_type": "markdown",
   "metadata": {},
   "source": [
    "## 2.4. Summary"
   ]
  },
  {
   "cell_type": "markdown",
   "metadata": {},
   "source": [
    "**Summary**\n",
    "\n",
    "**For musicgroup_df:**\n",
    "* The column names have been changed to lowercase and spaces replaced with underscore.\n",
    "* missing values filled with 0 if they are still active.\n",
    "* dates related cells are checked for their range \n",
    "* company names changed to lowercase and spaces replaced with underscores.\n",
    "\n",
    "**For kpoptrend_df:**\n",
    "* There are no missing values. column names changed to make it more readable.\n"
   ]
  },
  {
   "cell_type": "markdown",
   "metadata": {},
   "source": [
    "## Exporting Data"
   ]
  },
  {
   "cell_type": "code",
   "execution_count": 16,
   "metadata": {},
   "outputs": [],
   "source": [
    "# Placed the # to refrain from executing\n",
    "musicgroup_df.to_csv(\"../data/musicgroup_cleaned.csv\", index = False)\n",
    "kpoptrend_df.to_csv(\"../data/kpoptrend_cleaned.csv\", index = True)"
   ]
  },
  {
   "cell_type": "code",
   "execution_count": null,
   "metadata": {},
   "outputs": [],
   "source": []
  },
  {
   "cell_type": "code",
   "execution_count": null,
   "metadata": {},
   "outputs": [],
   "source": []
  },
  {
   "cell_type": "code",
   "execution_count": null,
   "metadata": {},
   "outputs": [],
   "source": []
  }
 ],
 "metadata": {
  "kernelspec": {
   "display_name": "Python 3",
   "language": "python",
   "name": "python3"
  },
  "language_info": {
   "codemirror_mode": {
    "name": "ipython",
    "version": 3
   },
   "file_extension": ".py",
   "mimetype": "text/x-python",
   "name": "python",
   "nbconvert_exporter": "python",
   "pygments_lexer": "ipython3",
   "version": "3.8.5"
  }
 },
 "nbformat": 4,
 "nbformat_minor": 4
}
